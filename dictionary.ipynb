{
  "nbformat": 4,
  "nbformat_minor": 0,
  "metadata": {
    "colab": {
      "provenance": [],
      "include_colab_link": true
    },
    "kernelspec": {
      "name": "python3",
      "display_name": "Python 3"
    },
    "language_info": {
      "name": "python"
    }
  },
  "cells": [
    {
      "cell_type": "markdown",
      "metadata": {
        "id": "view-in-github",
        "colab_type": "text"
      },
      "source": [
        "<a href=\"https://colab.research.google.com/github/Anmolkr1909/Dictionary/blob/main/dictionary.ipynb\" target=\"_parent\"><img src=\"https://colab.research.google.com/assets/colab-badge.svg\" alt=\"Open In Colab\"/></a>"
      ]
    },
    {
      "cell_type": "markdown",
      "source": [
        "# **Dictionary**\n",
        "\n",
        "---\n",
        "\n"
      ],
      "metadata": {
        "id": "K7DQA5C_CnxJ"
      }
    },
    {
      "cell_type": "markdown",
      "source": [
        "58) Student Report Card Generator\n",
        "  *  Store subject marks and calculate total & average"
      ],
      "metadata": {
        "id": "F_JVDzAbC2XQ"
      }
    },
    {
      "cell_type": "code",
      "source": [
        "# Step 1: Create dictionary of marks\n",
        "marks = {\"Math\": 90,\n",
        "        \"Science\": 85,\n",
        "         \"English\": 78,}\n",
        "\n",
        "# Step 2: Add new subject\n",
        "marks[\"Computer\"] = 88\n",
        "\n",
        "# Step 3: Calculate total and average\n",
        "total = sum(marks.values())\n",
        "average = total / len(marks)\n",
        "\n",
        "print(\"Marks:\", marks)\n",
        "print(\"Total Marks:\", total)\n",
        "print(\"Average Marks:\", average)\n"
      ],
      "metadata": {
        "colab": {
          "base_uri": "https://localhost:8080/"
        },
        "id": "bggKn_LNDE65",
        "outputId": "10799377-9ae4-4821-d3c9-4b4966446185"
      },
      "execution_count": null,
      "outputs": [
        {
          "output_type": "stream",
          "name": "stdout",
          "text": [
            "Marks: {'Math': 90, 'Science': 85, 'English': 78, 'Computer': 88}\n",
            "Total Marks: 341\n",
            "Average Marks: 85.25\n"
          ]
        }
      ]
    },
    {
      "cell_type": "markdown",
      "source": [
        "\n",
        "\n",
        "---\n",
        "\n"
      ],
      "metadata": {
        "id": "iGOtV7piDwcL"
      }
    },
    {
      "cell_type": "markdown",
      "source": [
        "59) Contact Book App\n",
        "*  Save and manage names with phone numbers"
      ],
      "metadata": {
        "id": "KA77eHKDD0r5"
      }
    },
    {
      "cell_type": "code",
      "source": [
        "contacts = {\"Anmol\": \"9876543210\",\n",
        "    \"Ravi\": \"8765432109\"}\n",
        "\n",
        "# Add a new contact\n",
        "contacts[\"Neha\"] = \"9123456789\"\n",
        "\n",
        "# Update a number\n",
        "contacts[\"Ravi\"] = \"8000000000\"\n",
        "\n",
        "# Check if contact exists\n",
        "if \"Priya\" not in contacts:\n",
        "    print(\"Priya not found\")\n",
        "\n",
        "# Remove a contact\n",
        "contacts.pop(\"Anmol\")\n",
        "\n",
        "# Final list\n",
        "print(\"Contacts:\", contacts)\n"
      ],
      "metadata": {
        "colab": {
          "base_uri": "https://localhost:8080/"
        },
        "id": "JMOWZBUvEBue",
        "outputId": "435ed713-2982-40e6-85f4-a7245b6b8792"
      },
      "execution_count": null,
      "outputs": [
        {
          "output_type": "stream",
          "name": "stdout",
          "text": [
            "Priya not found\n",
            "Contacts: {'Ravi': '8000000000', 'Neha': '9123456789'}\n"
          ]
        }
      ]
    },
    {
      "cell_type": "markdown",
      "source": [
        "\n",
        "\n",
        "---\n",
        "\n"
      ],
      "metadata": {
        "id": "4nfwe2clEc0u"
      }
    },
    {
      "cell_type": "markdown",
      "source": [
        "60) Inventory Management\n",
        "* Manage stock of items in a store."
      ],
      "metadata": {
        "id": "ZFfHLEY1EjMs"
      }
    },
    {
      "cell_type": "code",
      "source": [
        "inventory = {\"Milk\": 10,\n",
        "    \"Eggs\": 20,\n",
        "    \"Bread\": 15}\n",
        "\n",
        "# Sell 3 Milk and 5 Eggs\n",
        "inventory[\"Milk\"] -= 3\n",
        "inventory[\"Eggs\"] -= 5\n",
        "\n",
        "# Restock Bread\n",
        "inventory[\"Bread\"] += 10\n",
        "\n",
        "# Add new item\n",
        "inventory[\"Juice\"] = 8\n",
        "\n",
        "# Show all stock\n",
        "for item, qty in inventory.items():\n",
        "    print(f\" {item} - {qty} items\")\n"
      ],
      "metadata": {
        "colab": {
          "base_uri": "https://localhost:8080/"
        },
        "id": "rmkuqk8nEznh",
        "outputId": "f16c28c8-410d-4e0e-f29b-37b69b03fbe2"
      },
      "execution_count": null,
      "outputs": [
        {
          "output_type": "stream",
          "name": "stdout",
          "text": [
            " Milk - 7 items\n",
            " Eggs - 15 items\n",
            " Bread - 25 items\n",
            " Juice - 8 items\n"
          ]
        }
      ]
    },
    {
      "cell_type": "markdown",
      "source": [
        "\n",
        "\n",
        "---\n",
        "\n"
      ],
      "metadata": {
        "id": "BC2MZi3AG7mC"
      }
    },
    {
      "cell_type": "markdown",
      "source": [
        "61)  Login Authentication System\n",
        "* Check if username exists and password is correct.\n"
      ],
      "metadata": {
        "id": "-jH_HCJ1G8e_"
      }
    },
    {
      "cell_type": "code",
      "source": [
        "users = {\"anmol\": \"pass123\",\n",
        "        \"neha\": \"neha@321\"}\n",
        "\n",
        "# login\n",
        "username = \"anmol\"\n",
        "password = \"pass123\"\n",
        "\n",
        "if username in users:\n",
        "    if users[username] == password:\n",
        "        print(\"Login Successful\")\n",
        "    else:\n",
        "        print(\"Wrong Password\")\n",
        "else:\n",
        "    print(\"Username Not Found\")\n"
      ],
      "metadata": {
        "colab": {
          "base_uri": "https://localhost:8080/"
        },
        "id": "vjO9eO4CHWkH",
        "outputId": "7f9a1f0d-938f-4c6d-9fd0-6c39901a0503"
      },
      "execution_count": null,
      "outputs": [
        {
          "output_type": "stream",
          "name": "stdout",
          "text": [
            "Login Successful\n"
          ]
        }
      ]
    },
    {
      "cell_type": "markdown",
      "source": [
        "\n",
        "\n",
        "---\n",
        "\n"
      ],
      "metadata": {
        "id": "z8bAI019ISgb"
      }
    },
    {
      "cell_type": "markdown",
      "source": [],
      "metadata": {
        "id": "h-Xc69P2ISen"
      }
    },
    {
      "cell_type": "markdown",
      "source": [
        "62) Word Meaning Dictionary\n",
        "* Store word meanings like a mini dictionary app"
      ],
      "metadata": {
        "id": "2V0ulAiFHtOi"
      }
    },
    {
      "cell_type": "code",
      "source": [
        "dictionary = {\"Python\": \"A programming language\",\n",
        "    \"List\": \"A collection of items\",\n",
        "    \"Function\": \"A block of reusable code\"}\n",
        "\n",
        "# Get meaning\n",
        "word = \"List\"\n",
        "meaning = dictionary.get(word, \"Word not found\")\n",
        "\n",
        "print(f\"{word} means: {meaning}\")\n",
        "\n",
        "# Show all words\n",
        "print(\"\\n All Words:\")\n",
        "for w in dictionary.keys():\n",
        "    print(w)\n"
      ],
      "metadata": {
        "colab": {
          "base_uri": "https://localhost:8080/"
        },
        "id": "XpMJrMjnH6I9",
        "outputId": "50d03c39-bd0b-415e-a984-420f8377245a"
      },
      "execution_count": null,
      "outputs": [
        {
          "output_type": "stream",
          "name": "stdout",
          "text": [
            "List means: A collection of items\n",
            "\n",
            " All Words:\n",
            "Python\n",
            "List\n",
            "Function\n"
          ]
        }
      ]
    },
    {
      "cell_type": "markdown",
      "source": [
        "\n",
        "\n",
        "---\n",
        "\n",
        "\n",
        "\n",
        "---\n",
        "\n"
      ],
      "metadata": {
        "id": "okIyHA0fIUfM"
      }
    }
  ]
}